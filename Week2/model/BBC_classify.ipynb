{
 "cells": [
  {
   "cell_type": "markdown",
   "metadata": {},
   "source": [
    "# Thực hành phân loại báo"
   ]
  },
  {
   "cell_type": "markdown",
   "metadata": {},
   "source": [
    "# 1. Nhập dataset và kiểm tra"
   ]
  },
  {
   "cell_type": "code",
   "execution_count": 55,
   "metadata": {},
   "outputs": [
    {
     "data": {
      "text/html": [
       "<div>\n",
       "<style scoped>\n",
       "    .dataframe tbody tr th:only-of-type {\n",
       "        vertical-align: middle;\n",
       "    }\n",
       "\n",
       "    .dataframe tbody tr th {\n",
       "        vertical-align: top;\n",
       "    }\n",
       "\n",
       "    .dataframe thead th {\n",
       "        text-align: right;\n",
       "    }\n",
       "</style>\n",
       "<table border=\"1\" class=\"dataframe\">\n",
       "  <thead>\n",
       "    <tr style=\"text-align: right;\">\n",
       "      <th></th>\n",
       "      <th>text</th>\n",
       "      <th>category</th>\n",
       "    </tr>\n",
       "  </thead>\n",
       "  <tbody>\n",
       "    <tr>\n",
       "      <th>0</th>\n",
       "      <td>Milburn defends poster campaign\\n \\n Labour's ...</td>\n",
       "      <td>politics</td>\n",
       "    </tr>\n",
       "    <tr>\n",
       "      <th>1</th>\n",
       "      <td>'Debate needed' on donations cap\\n \\n A cap on...</td>\n",
       "      <td>politics</td>\n",
       "    </tr>\n",
       "    <tr>\n",
       "      <th>2</th>\n",
       "      <td>UK plan to deport terror suspects\\n \\n Deals a...</td>\n",
       "      <td>politics</td>\n",
       "    </tr>\n",
       "    <tr>\n",
       "      <th>3</th>\n",
       "      <td>Howard rebuts asylum criticisms\\n \\n Tory lead...</td>\n",
       "      <td>politics</td>\n",
       "    </tr>\n",
       "    <tr>\n",
       "      <th>4</th>\n",
       "      <td>UKIP MEP attacked German 'empire'\\n \\n A UK In...</td>\n",
       "      <td>politics</td>\n",
       "    </tr>\n",
       "  </tbody>\n",
       "</table>\n",
       "</div>"
      ],
      "text/plain": [
       "                                                text  category\n",
       "0  Milburn defends poster campaign\\n \\n Labour's ...  politics\n",
       "1  'Debate needed' on donations cap\\n \\n A cap on...  politics\n",
       "2  UK plan to deport terror suspects\\n \\n Deals a...  politics\n",
       "3  Howard rebuts asylum criticisms\\n \\n Tory lead...  politics\n",
       "4  UKIP MEP attacked German 'empire'\\n \\n A UK In...  politics"
      ]
     },
     "execution_count": 55,
     "metadata": {},
     "output_type": "execute_result"
    }
   ],
   "source": [
    "import warnings\n",
    "warnings.filterwarnings('ignore')\n",
    "\n",
    "import pandas as pd\n",
    "df = pd.read_csv('../dataset/dataset.csv')\n",
    "df.head()"
   ]
  },
  {
   "cell_type": "markdown",
   "metadata": {},
   "source": [
    "Chuyển giá trị trong cột label về số sử dụng map. {'politics': 0, 'tech': 1}"
   ]
  },
  {
   "cell_type": "code",
   "execution_count": 56,
   "metadata": {},
   "outputs": [
    {
     "data": {
      "text/html": [
       "<div>\n",
       "<style scoped>\n",
       "    .dataframe tbody tr th:only-of-type {\n",
       "        vertical-align: middle;\n",
       "    }\n",
       "\n",
       "    .dataframe tbody tr th {\n",
       "        vertical-align: top;\n",
       "    }\n",
       "\n",
       "    .dataframe thead th {\n",
       "        text-align: right;\n",
       "    }\n",
       "</style>\n",
       "<table border=\"1\" class=\"dataframe\">\n",
       "  <thead>\n",
       "    <tr style=\"text-align: right;\">\n",
       "      <th></th>\n",
       "      <th>text</th>\n",
       "      <th>category</th>\n",
       "    </tr>\n",
       "  </thead>\n",
       "  <tbody>\n",
       "    <tr>\n",
       "      <th>0</th>\n",
       "      <td>Milburn defends poster campaign\\n \\n Labour's ...</td>\n",
       "      <td>0</td>\n",
       "    </tr>\n",
       "    <tr>\n",
       "      <th>1</th>\n",
       "      <td>'Debate needed' on donations cap\\n \\n A cap on...</td>\n",
       "      <td>0</td>\n",
       "    </tr>\n",
       "    <tr>\n",
       "      <th>2</th>\n",
       "      <td>UK plan to deport terror suspects\\n \\n Deals a...</td>\n",
       "      <td>0</td>\n",
       "    </tr>\n",
       "    <tr>\n",
       "      <th>3</th>\n",
       "      <td>Howard rebuts asylum criticisms\\n \\n Tory lead...</td>\n",
       "      <td>0</td>\n",
       "    </tr>\n",
       "    <tr>\n",
       "      <th>4</th>\n",
       "      <td>UKIP MEP attacked German 'empire'\\n \\n A UK In...</td>\n",
       "      <td>0</td>\n",
       "    </tr>\n",
       "  </tbody>\n",
       "</table>\n",
       "</div>"
      ],
      "text/plain": [
       "                                                text  category\n",
       "0  Milburn defends poster campaign\\n \\n Labour's ...         0\n",
       "1  'Debate needed' on donations cap\\n \\n A cap on...         0\n",
       "2  UK plan to deport terror suspects\\n \\n Deals a...         0\n",
       "3  Howard rebuts asylum criticisms\\n \\n Tory lead...         0\n",
       "4  UKIP MEP attacked German 'empire'\\n \\n A UK In...         0"
      ]
     },
     "execution_count": 56,
     "metadata": {},
     "output_type": "execute_result"
    }
   ],
   "source": [
    "df['category'] = df.category.map({'politics': 0, 'tech': 1})\n",
    "df.head()"
   ]
  },
  {
   "cell_type": "code",
   "execution_count": 57,
   "metadata": {},
   "outputs": [
    {
     "data": {
      "text/plain": [
       "(800, 2)"
      ]
     },
     "execution_count": 57,
     "metadata": {},
     "output_type": "execute_result"
    }
   ],
   "source": [
    "#Kiểm tra kích thước dataset\n",
    "df.shape"
   ]
  },
  {
   "cell_type": "markdown",
   "metadata": {},
   "source": [
    "# 2. Làm sạch dữ liệu"
   ]
  },
  {
   "cell_type": "markdown",
   "metadata": {},
   "source": [
    "1. Chuyển tất cả các từ sang chữ thường.\n",
    "2. Loại bỏ tất cả các dấu chấm câu, số, từ ít hơn 3 ký tự.\n",
    "3. Tách từ\n",
    "4. Loại bỏ stopwords\n",
    "5. Đưa về từ nguyên gốc"
   ]
  },
  {
   "cell_type": "code",
   "execution_count": 58,
   "metadata": {},
   "outputs": [],
   "source": [
    "#Import các thư viện cần thiết\n",
    "import nltk\n",
    "from nltk.corpus import stopwords\n",
    "from nltk.tokenize import RegexpTokenizer\n",
    "from nltk.stem.snowball import SnowballStemmer\n",
    "\n",
    "STOPWORDS = set(stopwords.words('english'))"
   ]
  },
  {
   "cell_type": "code",
   "execution_count": 59,
   "metadata": {},
   "outputs": [],
   "source": [
    "def preprocess(sentence):\n",
    "    sentence = sentence.lower()\n",
    "    stemmer = SnowballStemmer(\"english\")\n",
    "    tokenizer = RegexpTokenizer(r'[a-z]{3,}')\n",
    "    tokens = tokenizer.tokenize(sentence)\n",
    "    tokens = [stemmer.stem(w) for w in tokens if w not in STOPWORDS]\n",
    "\n",
    "    return \" \".join(tokens)"
   ]
  },
  {
   "cell_type": "code",
   "execution_count": 60,
   "metadata": {},
   "outputs": [
    {
     "data": {
      "text/plain": [
       "0    milburn defend poster campaign labour elect ch...\n",
       "1    debat need donat cap cap donat polit parti int...\n",
       "2    plan deport terror suspect deal sought allow d...\n",
       "3    howard rebut asylum critic tori leader michael...\n",
       "4    ukip mep attack german empir independ parti me...\n",
       "Name: text, dtype: object"
      ]
     },
     "execution_count": 60,
     "metadata": {},
     "output_type": "execute_result"
    }
   ],
   "source": [
    "df['text'] = df['text'].apply(preprocess)\n",
    "df['text'].head()"
   ]
  },
  {
   "cell_type": "markdown",
   "metadata": {},
   "source": [
    "# 3. Tạo mô hình Bag of Words sử dụng sklearn"
   ]
  },
  {
   "cell_type": "code",
   "execution_count": 61,
   "metadata": {},
   "outputs": [
    {
     "data": {
      "text/plain": [
       "CountVectorizer(max_features=3000, min_df=3)"
      ]
     },
     "execution_count": 61,
     "metadata": {},
     "output_type": "execute_result"
    }
   ],
   "source": [
    "from sklearn.feature_extraction.text import CountVectorizer\n",
    "count_vector = CountVectorizer(encoding='utf-8', max_features=3000, min_df=3)\n",
    "count_vector.fit(df['text'])"
   ]
  },
  {
   "cell_type": "code",
   "execution_count": 62,
   "metadata": {},
   "outputs": [],
   "source": [
    "doc_array = count_vector.transform(df['text']).toarray()"
   ]
  },
  {
   "cell_type": "code",
   "execution_count": 37,
   "metadata": {},
   "outputs": [
    {
     "name": "stdout",
     "output_type": "stream",
     "text": [
      "     abandon  abid  abil  abl  abolish  abroad  absolut  abus  academ  \\\n",
      "0          0     0     0    0        0       0        0     0       0   \n",
      "1          0     0     0    1        0       0        0     0       0   \n",
      "2          0     0     1    0        0       0        0     0       0   \n",
      "3          0     0     0    0        0       0        2     0       0   \n",
      "4          0     0     0    0        0       0        0     0       0   \n",
      "..       ...   ...   ...  ...      ...     ...      ...   ...     ...   \n",
      "795        0     0     0    0        0       0        0     0       0   \n",
      "796        0     0     0    0        0       0        0     0       0   \n",
      "797        0     0     0    0        0       0        0     0       0   \n",
      "798        0     0     0    0        0       0        0     0       0   \n",
      "799        0     0     0    0        0       0        0     0       0   \n",
      "\n",
      "     acceler  ...  yahoo  year  yes  yet  york  young  younger  youth  zombi  \\\n",
      "0          0  ...      0     1    0    0     0      0        0      0      0   \n",
      "1          0  ...      0     0    0    1     0      0        1      0      0   \n",
      "2          0  ...      0     0    0    0     0      0        0      0      0   \n",
      "3          0  ...      0     0    0    0     0      0        0      0      0   \n",
      "4          0  ...      0     1    0    0     0      0        0      0      0   \n",
      "..       ...  ...    ...   ...  ...  ...   ...    ...      ...    ...    ...   \n",
      "795        0  ...      0     1    0    1     0      0        0      0      0   \n",
      "796        0  ...      0     0    0    0     0      0        0      0      0   \n",
      "797        0  ...      0     0    0    1     0      0        0      0      0   \n",
      "798        0  ...      0     0    0    0     0      1        1      0      0   \n",
      "799        0  ...      0     0    0    1     0      0        0      0      0   \n",
      "\n",
      "     zone  \n",
      "0       0  \n",
      "1       0  \n",
      "2       0  \n",
      "3       0  \n",
      "4       0  \n",
      "..    ...  \n",
      "795     0  \n",
      "796     0  \n",
      "797     0  \n",
      "798     0  \n",
      "799     0  \n",
      "\n",
      "[800 rows x 3000 columns]\n"
     ]
    }
   ],
   "source": [
    "frequency_matrix = pd.DataFrame(doc_array,columns = count_vector.get_feature_names())"
   ]
  },
  {
   "cell_type": "markdown",
   "metadata": {},
   "source": [
    "Tách dataset thành tập train và test"
   ]
  },
  {
   "cell_type": "code",
   "execution_count": 63,
   "metadata": {},
   "outputs": [
    {
     "name": "stdout",
     "output_type": "stream",
     "text": [
      "Number of rows in the train set: 512\n",
      "Number of rows in the val set: 128\n",
      "Number of rows in the test set: 160\n"
     ]
    }
   ],
   "source": [
    "from sklearn.model_selection import train_test_split\n",
    "X_train, X_test, y_train, y_test = train_test_split(df['text'], \n",
    "                                                    df['category'],\n",
    "                                                    test_size=.2,\n",
    "                                                    random_state=42)\n",
    "X_train, X_val, y_train, y_val = train_test_split(X_train, \n",
    "                                                    y_train, \n",
    "                                                    test_size=.2,\n",
    "                                                    random_state=42)\n",
    "print('Number of rows in the train set: {}'.format(X_train.shape[0]))\n",
    "print('Number of rows in the val set: {}'.format(X_val.shape[0]))\n",
    "print('Number of rows in the test set: {}'.format(X_test.shape[0]))"
   ]
  },
  {
   "cell_type": "code",
   "execution_count": 71,
   "metadata": {},
   "outputs": [],
   "source": [
    "# Khởi tạo CountVectorizer method\n",
    "count_vector = CountVectorizer()\n",
    "\n",
    "# Fit và transform tập train rồi trả về ma trận\n",
    "training_data = count_vector.fit_transform(X_train)\n",
    "\n",
    "# Transform rồi trả về ma trận.\n",
    "# Lưu ý không fit với CountVectorizer()\n",
    "val_data = count_vector.transform(X_val)\n",
    "testing_data = count_vector.transform(X_test)"
   ]
  },
  {
   "cell_type": "markdown",
   "metadata": {},
   "source": [
    "# 4. Huấn luyên mô hình sử dụng mô hình Naive Bayes"
   ]
  },
  {
   "cell_type": "code",
   "execution_count": 65,
   "metadata": {},
   "outputs": [
    {
     "data": {
      "text/plain": [
       "MultinomialNB()"
      ]
     },
     "execution_count": 65,
     "metadata": {},
     "output_type": "execute_result"
    }
   ],
   "source": [
    "from sklearn.naive_bayes import MultinomialNB\n",
    "naive_bayes = MultinomialNB()\n",
    "naive_bayes.fit(training_data, y_train)"
   ]
  },
  {
   "cell_type": "code",
   "execution_count": 66,
   "metadata": {},
   "outputs": [],
   "source": [
    "val_predictions = naive_bayes.predict(val_data)\n",
    "test_predictions = naive_bayes.predict(testing_data)"
   ]
  },
  {
   "cell_type": "markdown",
   "metadata": {},
   "source": [
    "# 5. Đánh giá mô hình Naive Bayes"
   ]
  },
  {
   "cell_type": "code",
   "execution_count": 67,
   "metadata": {},
   "outputs": [
    {
     "name": "stdout",
     "output_type": "stream",
     "text": [
      "Val\n",
      "Accuracy score: 99.22\n",
      "Precision score: 100.00\n",
      "Recall score: 98.59\n",
      "F1 score: 99.29\n",
      "\n",
      "Test\n",
      "Accuracy score: 99.38\n",
      "Precision score: 98.77\n",
      "Recall score: 100.00\n",
      "F1 score: 99.38\n"
     ]
    }
   ],
   "source": [
    "from sklearn.metrics import accuracy_score, precision_score, recall_score, f1_score\n",
    "print('Val')\n",
    "print('Accuracy score: {:.2f}'.format(100*accuracy_score(y_val, val_predictions)))\n",
    "print('Precision score: {:.2f}'.format(100*precision_score(y_val, val_predictions)))\n",
    "print('Recall score: {:.2f}'.format(100*recall_score(y_val, val_predictions)))\n",
    "print('F1 score: {:.2f}'.format(100*f1_score(y_val, val_predictions)))\n",
    "print('\\nTest')\n",
    "print('Accuracy score: {:.2f}'.format(100*accuracy_score(y_test, test_predictions)))\n",
    "print('Precision score: {:.2f}'.format(100*precision_score(y_test, test_predictions)))\n",
    "print('Recall score: {:.2f}'.format(100*recall_score(y_test, test_predictions)))\n",
    "print('F1 score: {:.2f}'.format(100*f1_score(y_test, test_predictions)))"
   ]
  },
  {
   "cell_type": "markdown",
   "metadata": {},
   "source": [
    "# 6. Huấn luyên mô hình sử dụng mô hình SVM"
   ]
  },
  {
   "cell_type": "code",
   "execution_count": 68,
   "metadata": {},
   "outputs": [
    {
     "data": {
      "text/plain": [
       "SVC()"
      ]
     },
     "execution_count": 68,
     "metadata": {},
     "output_type": "execute_result"
    }
   ],
   "source": [
    "from sklearn.svm import SVC, LinearSVC\n",
    "svm = SVC()\n",
    "svm.fit(training_data, y_train)"
   ]
  },
  {
   "cell_type": "code",
   "execution_count": 69,
   "metadata": {},
   "outputs": [],
   "source": [
    "val_predictions = svm.predict(val_data)\n",
    "test_predictions = svm.predict(testing_data)"
   ]
  },
  {
   "cell_type": "markdown",
   "metadata": {},
   "source": [
    "# 7. Đánh giá mô hình SVM"
   ]
  },
  {
   "cell_type": "code",
   "execution_count": 70,
   "metadata": {},
   "outputs": [
    {
     "name": "stdout",
     "output_type": "stream",
     "text": [
      "Val\n",
      "Accuracy score: 99.22\n",
      "Precision score: 98.61\n",
      "Recall score: 100.00\n",
      "F1 score: 99.30\n",
      "\n",
      "Test\n",
      "Accuracy score: 97.50\n",
      "Precision score: 95.24\n",
      "Recall score: 100.00\n",
      "F1 score: 97.56\n"
     ]
    }
   ],
   "source": [
    "from sklearn.metrics import accuracy_score, precision_score, recall_score, f1_score\n",
    "print('Val')\n",
    "print('Accuracy score: {:.2f}'.format(100*accuracy_score(y_val, val_predictions)))\n",
    "print('Precision score: {:.2f}'.format(100*precision_score(y_val, val_predictions)))\n",
    "print('Recall score: {:.2f}'.format(100*recall_score(y_val, val_predictions)))\n",
    "print('F1 score: {:.2f}'.format(100*f1_score(y_val, val_predictions)))\n",
    "print('\\nTest')\n",
    "print('Accuracy score: {:.2f}'.format(100*accuracy_score(y_test, test_predictions)))\n",
    "print('Precision score: {:.2f}'.format(100*precision_score(y_test, test_predictions)))\n",
    "print('Recall score: {:.2f}'.format(100*recall_score(y_test, test_predictions)))\n",
    "print('F1 score: {:.2f}'.format(100*f1_score(y_test, test_predictions)))"
   ]
  }
 ],
 "metadata": {
  "kernelspec": {
   "display_name": "Python 3",
   "language": "python",
   "name": "python3"
  },
  "language_info": {
   "codemirror_mode": {
    "name": "ipython",
    "version": 3
   },
   "file_extension": ".py",
   "mimetype": "text/x-python",
   "name": "python",
   "nbconvert_exporter": "python",
   "pygments_lexer": "ipython3",
   "version": "3.8.2"
  }
 },
 "nbformat": 4,
 "nbformat_minor": 4
}
